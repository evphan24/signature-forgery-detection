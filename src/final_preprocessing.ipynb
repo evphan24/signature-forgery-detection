{
  "nbformat": 4,
  "nbformat_minor": 0,
  "metadata": {
    "colab": {
      "provenance": [],
      "collapsed_sections": [
        "L1U3fGRQgDYO",
        "pqxk-hwAic85",
        "It8iUJU1g3hF",
        "1DM4KdLDhATl"
      ]
    },
    "kernelspec": {
      "name": "python3",
      "display_name": "Python 3"
    },
    "language_info": {
      "name": "python"
    },
    "accelerator": "TPU"
  },
  "cells": [
    {
      "cell_type": "markdown",
      "source": [
        "#Get Data"
      ],
      "metadata": {
        "id": "L1U3fGRQgDYO"
      }
    },
    {
      "cell_type": "code",
      "execution_count": null,
      "metadata": {
        "id": "Z_b_YWzhq9VS"
      },
      "outputs": [],
      "source": [
        "# Install Kaggle Library\n",
        "!pip install kaggle\n",
        "\n",
        "# Before next step, user needs to download the free API KEY from Kaggle settings\n",
        "# Upload the kaggle.json file to Google Colab Files\n",
        "\n",
        "# Make directory for Kaggle & Refer to API KEY\n",
        "! mkdir ~/.kaggle\n",
        "!cp kaggle.json ~/.kaggle/\n",
        "! chmod 600 ~/.kaggle/kaggle.json\n",
        "\n",
        "# Download Dataset\n",
        "! kaggle datasets download shreelakshmigp/cedardataset"
      ]
    },
    {
      "cell_type": "code",
      "source": [
        "# ! mkdir sfddata\n",
        "! unzip cedardataset.zip -d sfddata"
      ],
      "metadata": {
        "id": "Ld1wPTXYrCsA"
      },
      "execution_count": null,
      "outputs": []
    },
    {
      "cell_type": "markdown",
      "source": [
        "#Combine Data"
      ],
      "metadata": {
        "id": "QAStBcqKgwrJ"
      }
    },
    {
      "cell_type": "code",
      "source": [
        "import os\n",
        "import shutil\n",
        "import numpy as np\n",
        "\n",
        "# Paths to directories\n",
        "real_sig_dir = '/content/sfddata/signatures/full_org'\n",
        "fake_sig_dir = '/content/sfddata/signatures/full_forg'\n",
        "\n",
        "# Define the destination folder for the combined dataset\n",
        "destination_folder = 'signatures_combined'\n",
        "label_location = \"/content/signatures_combined/og_labels.npy\"\n",
        "\n",
        "# Ensure the destination folder exists\n",
        "os.makedirs(destination_folder, exist_ok=True)\n",
        "\n",
        "# List the files in the source subfolders\n",
        "files1 = os.listdir(real_sig_dir)\n",
        "files2 = os.listdir(fake_sig_dir)\n",
        "\n",
        "# The list of results\n",
        "labels = []\n",
        "\n",
        "# Copy files from the first subfolder to the destination\n",
        "for file in files1:\n",
        "    source_file = os.path.join(real_sig_dir, file)\n",
        "    destination_file = os.path.join(destination_folder, file)\n",
        "    shutil.copy(source_file, destination_file)\n",
        "    labels.append(1)\n",
        "\n",
        "# Copy files from the second subfolder to the destination\n",
        "for file in files2:\n",
        "    source_file = os.path.join(fake_sig_dir, file)\n",
        "    destination_file = os.path.join(destination_folder, file)\n",
        "    shutil.copy(source_file, destination_file)\n",
        "    labels.append(0)\n",
        "\n",
        "sorted_labels = np.array(labels)\n",
        "# save images somewhere\n",
        "np.save(label_location, sorted_labels, allow_pickle=False)"
      ],
      "metadata": {
        "id": "HJagwfbTgobP"
      },
      "execution_count": null,
      "outputs": []
    },
    {
      "cell_type": "markdown",
      "source": [
        "#Convert Image to Grayscale\n"
      ],
      "metadata": {
        "id": "xJup25ZtSqKR"
      }
    },
    {
      "cell_type": "code",
      "source": [
        "\"\"\"Code is used for processing images\"\"\"\n",
        "\n",
        "from PIL import Image, ImageOps\n",
        "from tqdm import tqdm\n",
        "import shutil\n",
        "import os\n",
        "\n",
        "THRESHOLD = 128\n",
        "\n",
        "def image_to_grayscale(image_dir: str) -> Image:\n",
        "    \"\"\"Used for testing purposes to convert one image to grayscale\"\"\"\n",
        "    image = Image.open(image_dir)\n",
        "    gray_image = ImageOps.grayscale(image)\n",
        "    return gray_image\n",
        "\n",
        "def convert_grayscale(directory: str) -> list:\n",
        "    \"\"\"Converts all images in the given directory into gray scale\"\"\"\n",
        "    converted_images = []\n",
        "    for filename in os.listdir(directory):\n",
        "        if filename.endswith(\".png\"):\n",
        "            image = Image.open(directory + \"/\" + filename)\n",
        "            gray_image = ImageOps.grayscale(image)\n",
        "            converted_images.append(gray_image)\n",
        "    return converted_images\n",
        "\n",
        "def resize(images: list, dimensions: tuple) -> None:\n",
        "    \"\"\"Resizes all the given images in a list\"\"\"\n",
        "    for i in range(0, len(images)):\n",
        "        image = images[i]\n",
        "        images[i] = image.resize(dimensions)\n",
        "\n",
        "# actual code to run\n",
        "dimensions = (250, 250) # dimensions for the images, can be changed\n",
        "directory = 'signatures_combined'  # where the image files are located\n",
        "image_path = 'converted_images'  # where the  images will be stored\n",
        "gray_images = convert_grayscale(directory)\n",
        "# bitmap_images = convert_bitmap(gray_images)\n",
        "resize(gray_images, dimensions)\n",
        "save_images = True\n",
        "\n",
        "if not os.path.exists(image_path):\n",
        "    # If the image path directory does not exist, create it.\n",
        "    !mkdir converted_images\n",
        "else:\n",
        "  shutil.rmtree(image_path)\n",
        "  !mkdir converted_images\n",
        "\n",
        "if save_images:\n",
        "    for i in tqdm(range(0, len(gray_images))):\n",
        "        # Saves the bitmap images\n",
        "        image_filename = os.path.join(image_path, f\"image{i}.png\")\n",
        "        gray_images[i].save(image_filename)\n"
      ],
      "metadata": {
        "id": "tTBDjNcfSnO4",
        "colab": {
          "base_uri": "https://localhost:8080/"
        },
        "outputId": "802c2c65-c550-4745-a2d0-b78956a6839d"
      },
      "execution_count": 15,
      "outputs": [
        {
          "output_type": "stream",
          "name": "stderr",
          "text": [
            "100%|██████████| 2640/2640 [00:41<00:00, 64.07it/s]\n"
          ]
        }
      ]
    },
    {
      "cell_type": "markdown",
      "source": [
        "#Reduce Noise In Images & Save Data"
      ],
      "metadata": {
        "id": "pqxk-hwAic85"
      }
    },
    {
      "cell_type": "code",
      "source": [
        "import cv2\n",
        "from tqdm import tqdm\n",
        "import numpy as np\n",
        "from numpy import asarray\n",
        "from matplotlib import pyplot as plt\n",
        "from concurrent.futures import ThreadPoolExecutor\n",
        "import pathlib\n",
        "plt.style.use('seaborn')\n",
        "\n",
        "# Get directory to access bitmap images\n",
        "dir = pathlib.Path('/content/converted_images')\n",
        "\n",
        "# Extract bitmap images and store in list\n",
        "pictures = list(dir.glob('*.png'))\n",
        "\n",
        "# Convert filenames to str and store in list\n",
        "images = []\n",
        "for pic in pictures:\n",
        "  images.append(str(pic))\n",
        "\n",
        "# where to store the images w reduced noise\n",
        "reduced_dir = \"/content/reduced\"\n",
        "!mkdir reduced\n",
        "\n",
        "compare_images = []\n",
        "less_noise_pics = []\n",
        "\n",
        "# Reduce noise in each bitmap image and store in list\n",
        "for i in tqdm(range(len(images))):\n",
        "  image = images[i]\n",
        "  noise_pic = cv2.imread(image)\n",
        "  image_again = asarray(noise_pic)\n",
        "  less_noise_pic = cv2.fastNlMeansDenoising(image_again, None, 15, 7, 21)\n",
        "\n",
        "  # images stored in tuple form => (original image, noise reduced image)\n",
        "  compare_images.append((noise_pic, less_noise_pic))\n",
        "  less_noise_pics.append(less_noise_pic)\n",
        "  curr_path = os.path.join(reduced_dir, f\"image{i}.png\")\n",
        "  cv2.imwrite(curr_path, less_noise_pic)"
      ],
      "metadata": {
        "id": "-gAlhNxLikz9"
      },
      "execution_count": null,
      "outputs": []
    },
    {
      "cell_type": "markdown",
      "source": [
        "#Split Data into Train & Test Directories"
      ],
      "metadata": {
        "id": "It8iUJU1g3hF"
      }
    },
    {
      "cell_type": "code",
      "source": [
        "import random\n",
        "import numpy\n",
        "\n",
        "data_path_train = \"/content/reduced\"\n",
        "! mkdir split\n",
        "data_path_test = \"/content/split\"\n",
        "\n",
        "# path to destination folders\n",
        "train_folder = os.path.join(data_path_test, 'training')\n",
        "test_folder = os.path.join(data_path_test, 'testing')\n",
        "\n",
        "# Define a list of image extensions\n",
        "image_extensions = '.png'\n",
        "\n",
        "# Create a list of image filenames in 'data_path'\n",
        "imgs_list = [filename for filename in os.listdir(data_path_train) if os.path.splitext(filename)[-1] in image_extensions]\n",
        "\n",
        "# Sets the random seed\n",
        "random.seed(1107)\n",
        "\n",
        "# Shuffle the list of image filenames\n",
        "indices = [x for x in range(0, len(imgs_list))]\n",
        "random.shuffle(indices)\n",
        "\n",
        "# determine the number of images for each set\n",
        "train_size = int(len(imgs_list) * 0.85)\n",
        "test_size = int(len(imgs_list) * 0.15)\n",
        "\n",
        "# Create destination folders if they don't exist\n",
        "if not os.path.exists(train_folder):\n",
        "    os.makedirs(train_folder)\n",
        "if not os.path.exists(test_folder):\n",
        "    os.makedirs(test_folder)\n",
        "\n",
        "# Rearrange the image files and labels\n",
        "new_imgs_list = [x for x in range(0, len(imgs_list))]\n",
        "new_labels = [x for x in range(0, len(imgs_list))]\n",
        "labels = numpy.load(\"/content/signatures_combined/og_labels.npy\")\n",
        "\n",
        "for i, j in enumerate(indices):\n",
        "  new_imgs_list[i] = imgs_list[j]\n",
        "  new_labels[i] = labels[j]\n",
        "\n",
        "# Store test imgs\n",
        "test_imgs = []\n",
        "\n",
        "# Copy image files to destination folders\n",
        "for i, f in enumerate(imgs_list):\n",
        "    if i < train_size:\n",
        "        dest_folder = train_folder\n",
        "        shutil.copy(os.path.join(data_path_train, f), os.path.join(dest_folder, f))\n",
        "    else:\n",
        "        dest_folder = test_folder\n",
        "        # add to test array\n",
        "        pic = cv2.imread(os.path.join(data_path_train, f))\n",
        "        test_imgs.append(asarray(pic))\n",
        "\n",
        "\n",
        "# Save labels\n",
        "train_labels = np.array(new_labels[:train_size])\n",
        "test_labels = np.array(new_labels[train_size:])\n",
        "# save images somewhere\n",
        "np.save(\"/content/og_train_labels.npy\", train_labels, allow_pickle=False)\n",
        "np.save(\"/content/test_labels.npy\", test_labels, allow_pickle=False)\n",
        "\n",
        "# Save test imgs\n",
        "test_imgs = np.array(test_imgs)\n",
        "np.save(\"/content/test_imgs.npy\", test_imgs)"
      ],
      "metadata": {
        "id": "8u3d2_M1g2s1"
      },
      "execution_count": 17,
      "outputs": []
    },
    {
      "cell_type": "markdown",
      "source": [
        "#Split Train Images into Tensorflow Datasets"
      ],
      "metadata": {
        "id": "1DM4KdLDhATl"
      }
    },
    {
      "cell_type": "code",
      "source": [
        "import tensorflow as tf\n",
        "from keras.utils import image_dataset_from_directory\n",
        "import tensorflow_datasets as tfds\n",
        "import pathlib\n",
        "\n",
        "BATCH_SIZE = 2232\n",
        "IMG_HEIGHT = 250\n",
        "IMG_WIDTH = 250\n",
        "\n",
        "# Set directory to pull images from\n",
        "DATA_DIR = pathlib.Path('/content/split/training')\n",
        "\n",
        "paths = len(list(DATA_DIR.glob('*.png')))\n",
        "print(paths)\n",
        "\n",
        "# get labels\n",
        "my_labels = numpy.load(\"/content/og_train_labels.npy\")\n",
        "print(my_labels)\n",
        "\n",
        "# Make training & validation tensorflow datasets stored in list\n",
        "train_ds = tf.keras.utils.image_dataset_from_directory(\n",
        "    DATA_DIR,\n",
        "    labels=my_labels.tolist(),\n",
        "    label_mode='binary',\n",
        "    validation_split=0.18,\n",
        "    subset=\"both\",\n",
        "    shuffle = True,\n",
        "    seed=1107,\n",
        "    image_size=(IMG_HEIGHT, IMG_WIDTH),\n",
        "    batch_size=BATCH_SIZE,\n",
        ")\n",
        "\n",
        "dataset_array = tfds.as_numpy(train_ds)\n",
        "\n",
        "train_dataset = dataset_array[0]\n",
        "val_dataset = dataset_array[1]\n",
        "\n",
        "for images, labels in dataset_array[0]:\n",
        "  np.save(\"/content/train_labels.npy\", labels)\n",
        "  np.save(\"/content/train_imgs.npy\", images)\n",
        "\n",
        "for images, labels in dataset_array[1]:\n",
        "  np.save(\"/content/val_labels.npy\", labels)\n",
        "  np.save(\"/content/val_imgs.npy\", images)\n",
        "# Testing folders has 15% of data but does not go through splitting\n",
        "# using tensorflow"
      ],
      "metadata": {
        "id": "g2Fys3UPhEh1",
        "colab": {
          "base_uri": "https://localhost:8080/"
        },
        "outputId": "9d11cf2e-916e-4223-c25b-4adbd45bb733"
      },
      "execution_count": 18,
      "outputs": [
        {
          "output_type": "stream",
          "name": "stdout",
          "text": [
            "2244\n",
            "[1 0 0 ... 0 0 1]\n",
            "Found 2244 files belonging to 2 classes.\n",
            "Using 1841 files for training.\n",
            "Using 403 files for validation.\n"
          ]
        }
      ]
    },
    {
      "cell_type": "markdown",
      "source": [
        "# Example to Load Data"
      ],
      "metadata": {
        "id": "5YMQ9myNczut"
      }
    },
    {
      "cell_type": "code",
      "source": [
        "import numpy\n",
        "\n",
        "train_labels = numpy.load(\"/content/train_labels.npy\")\n",
        "print(train_labels.shape)\n",
        "train_imgs = numpy.load(\"/content/train_imgs.npy\")\n",
        "print(train_imgs.shape)\n",
        "\n",
        "val_labels = numpy.load(\"/content/val_labels.npy\")\n",
        "print(val_labels.shape)\n",
        "val_imgs  = numpy.load(\"/content/val_imgs.npy\")\n",
        "print(val_imgs.shape)\n",
        "\n",
        "test_labels = numpy.load(\"/content/test_labels.npy\")\n",
        "print(test_labels.shape)\n",
        "test_imgs = numpy.load(\"/content/test_imgs.npy\")\n",
        "print(test_imgs.shape)"
      ],
      "metadata": {
        "id": "sCfAZkh41x8F",
        "colab": {
          "base_uri": "https://localhost:8080/"
        },
        "outputId": "35ba5666-ec28-49ae-c86e-2a4baa6fd3f1"
      },
      "execution_count": 19,
      "outputs": [
        {
          "output_type": "stream",
          "name": "stdout",
          "text": [
            "(1841, 1)\n",
            "(1841, 250, 250, 3)\n",
            "(403, 1)\n",
            "(403, 250, 250, 3)\n",
            "(396,)\n",
            "(396, 250, 250, 3)\n"
          ]
        }
      ]
    },
    {
      "cell_type": "markdown",
      "source": [
        "#Export Data"
      ],
      "metadata": {
        "id": "YsF98iTsHlQo"
      }
    },
    {
      "cell_type": "code",
      "source": [
        "from google.colab import files\n",
        "\n",
        "# download label arrays\n",
        "files.download(\"/content/train_labels.npy\")\n",
        "files.download(\"/content/test_labels.npy\")\n",
        "files.download(\"/content/val_labels.npy\")\n",
        "\n",
        "# download img arrays\n",
        "files.download(\"/content/test_imgs.npy\")\n",
        "files.download(\"/content/train_imgs.npy\")\n",
        "files.download(\"/content/val_imgs.npy\")"
      ],
      "metadata": {
        "colab": {
          "base_uri": "https://localhost:8080/",
          "height": 17
        },
        "id": "D-NFTMSlHnEB",
        "outputId": "2f0ff9e9-3043-40ba-b1eb-a7be2d520d79"
      },
      "execution_count": 20,
      "outputs": [
        {
          "output_type": "display_data",
          "data": {
            "text/plain": [
              "<IPython.core.display.Javascript object>"
            ],
            "application/javascript": [
              "\n",
              "    async function download(id, filename, size) {\n",
              "      if (!google.colab.kernel.accessAllowed) {\n",
              "        return;\n",
              "      }\n",
              "      const div = document.createElement('div');\n",
              "      const label = document.createElement('label');\n",
              "      label.textContent = `Downloading \"${filename}\": `;\n",
              "      div.appendChild(label);\n",
              "      const progress = document.createElement('progress');\n",
              "      progress.max = size;\n",
              "      div.appendChild(progress);\n",
              "      document.body.appendChild(div);\n",
              "\n",
              "      const buffers = [];\n",
              "      let downloaded = 0;\n",
              "\n",
              "      const channel = await google.colab.kernel.comms.open(id);\n",
              "      // Send a message to notify the kernel that we're ready.\n",
              "      channel.send({})\n",
              "\n",
              "      for await (const message of channel.messages) {\n",
              "        // Send a message to notify the kernel that we're ready.\n",
              "        channel.send({})\n",
              "        if (message.buffers) {\n",
              "          for (const buffer of message.buffers) {\n",
              "            buffers.push(buffer);\n",
              "            downloaded += buffer.byteLength;\n",
              "            progress.value = downloaded;\n",
              "          }\n",
              "        }\n",
              "      }\n",
              "      const blob = new Blob(buffers, {type: 'application/binary'});\n",
              "      const a = document.createElement('a');\n",
              "      a.href = window.URL.createObjectURL(blob);\n",
              "      a.download = filename;\n",
              "      div.appendChild(a);\n",
              "      a.click();\n",
              "      div.remove();\n",
              "    }\n",
              "  "
            ]
          },
          "metadata": {}
        },
        {
          "output_type": "display_data",
          "data": {
            "text/plain": [
              "<IPython.core.display.Javascript object>"
            ],
            "application/javascript": [
              "download(\"download_6a684203-be2e-416e-b702-a021c913a97b\", \"train_labels.npy\", 7492)"
            ]
          },
          "metadata": {}
        },
        {
          "output_type": "display_data",
          "data": {
            "text/plain": [
              "<IPython.core.display.Javascript object>"
            ],
            "application/javascript": [
              "\n",
              "    async function download(id, filename, size) {\n",
              "      if (!google.colab.kernel.accessAllowed) {\n",
              "        return;\n",
              "      }\n",
              "      const div = document.createElement('div');\n",
              "      const label = document.createElement('label');\n",
              "      label.textContent = `Downloading \"${filename}\": `;\n",
              "      div.appendChild(label);\n",
              "      const progress = document.createElement('progress');\n",
              "      progress.max = size;\n",
              "      div.appendChild(progress);\n",
              "      document.body.appendChild(div);\n",
              "\n",
              "      const buffers = [];\n",
              "      let downloaded = 0;\n",
              "\n",
              "      const channel = await google.colab.kernel.comms.open(id);\n",
              "      // Send a message to notify the kernel that we're ready.\n",
              "      channel.send({})\n",
              "\n",
              "      for await (const message of channel.messages) {\n",
              "        // Send a message to notify the kernel that we're ready.\n",
              "        channel.send({})\n",
              "        if (message.buffers) {\n",
              "          for (const buffer of message.buffers) {\n",
              "            buffers.push(buffer);\n",
              "            downloaded += buffer.byteLength;\n",
              "            progress.value = downloaded;\n",
              "          }\n",
              "        }\n",
              "      }\n",
              "      const blob = new Blob(buffers, {type: 'application/binary'});\n",
              "      const a = document.createElement('a');\n",
              "      a.href = window.URL.createObjectURL(blob);\n",
              "      a.download = filename;\n",
              "      div.appendChild(a);\n",
              "      a.click();\n",
              "      div.remove();\n",
              "    }\n",
              "  "
            ]
          },
          "metadata": {}
        },
        {
          "output_type": "display_data",
          "data": {
            "text/plain": [
              "<IPython.core.display.Javascript object>"
            ],
            "application/javascript": [
              "download(\"download_78a756e5-06b3-4083-bbee-9ebec6a37b07\", \"test_labels.npy\", 3296)"
            ]
          },
          "metadata": {}
        },
        {
          "output_type": "display_data",
          "data": {
            "text/plain": [
              "<IPython.core.display.Javascript object>"
            ],
            "application/javascript": [
              "\n",
              "    async function download(id, filename, size) {\n",
              "      if (!google.colab.kernel.accessAllowed) {\n",
              "        return;\n",
              "      }\n",
              "      const div = document.createElement('div');\n",
              "      const label = document.createElement('label');\n",
              "      label.textContent = `Downloading \"${filename}\": `;\n",
              "      div.appendChild(label);\n",
              "      const progress = document.createElement('progress');\n",
              "      progress.max = size;\n",
              "      div.appendChild(progress);\n",
              "      document.body.appendChild(div);\n",
              "\n",
              "      const buffers = [];\n",
              "      let downloaded = 0;\n",
              "\n",
              "      const channel = await google.colab.kernel.comms.open(id);\n",
              "      // Send a message to notify the kernel that we're ready.\n",
              "      channel.send({})\n",
              "\n",
              "      for await (const message of channel.messages) {\n",
              "        // Send a message to notify the kernel that we're ready.\n",
              "        channel.send({})\n",
              "        if (message.buffers) {\n",
              "          for (const buffer of message.buffers) {\n",
              "            buffers.push(buffer);\n",
              "            downloaded += buffer.byteLength;\n",
              "            progress.value = downloaded;\n",
              "          }\n",
              "        }\n",
              "      }\n",
              "      const blob = new Blob(buffers, {type: 'application/binary'});\n",
              "      const a = document.createElement('a');\n",
              "      a.href = window.URL.createObjectURL(blob);\n",
              "      a.download = filename;\n",
              "      div.appendChild(a);\n",
              "      a.click();\n",
              "      div.remove();\n",
              "    }\n",
              "  "
            ]
          },
          "metadata": {}
        },
        {
          "output_type": "display_data",
          "data": {
            "text/plain": [
              "<IPython.core.display.Javascript object>"
            ],
            "application/javascript": [
              "download(\"download_2ab81ea7-28ae-4f30-ba24-498f62b69256\", \"val_labels.npy\", 1740)"
            ]
          },
          "metadata": {}
        },
        {
          "output_type": "display_data",
          "data": {
            "text/plain": [
              "<IPython.core.display.Javascript object>"
            ],
            "application/javascript": [
              "\n",
              "    async function download(id, filename, size) {\n",
              "      if (!google.colab.kernel.accessAllowed) {\n",
              "        return;\n",
              "      }\n",
              "      const div = document.createElement('div');\n",
              "      const label = document.createElement('label');\n",
              "      label.textContent = `Downloading \"${filename}\": `;\n",
              "      div.appendChild(label);\n",
              "      const progress = document.createElement('progress');\n",
              "      progress.max = size;\n",
              "      div.appendChild(progress);\n",
              "      document.body.appendChild(div);\n",
              "\n",
              "      const buffers = [];\n",
              "      let downloaded = 0;\n",
              "\n",
              "      const channel = await google.colab.kernel.comms.open(id);\n",
              "      // Send a message to notify the kernel that we're ready.\n",
              "      channel.send({})\n",
              "\n",
              "      for await (const message of channel.messages) {\n",
              "        // Send a message to notify the kernel that we're ready.\n",
              "        channel.send({})\n",
              "        if (message.buffers) {\n",
              "          for (const buffer of message.buffers) {\n",
              "            buffers.push(buffer);\n",
              "            downloaded += buffer.byteLength;\n",
              "            progress.value = downloaded;\n",
              "          }\n",
              "        }\n",
              "      }\n",
              "      const blob = new Blob(buffers, {type: 'application/binary'});\n",
              "      const a = document.createElement('a');\n",
              "      a.href = window.URL.createObjectURL(blob);\n",
              "      a.download = filename;\n",
              "      div.appendChild(a);\n",
              "      a.click();\n",
              "      div.remove();\n",
              "    }\n",
              "  "
            ]
          },
          "metadata": {}
        },
        {
          "output_type": "display_data",
          "data": {
            "text/plain": [
              "<IPython.core.display.Javascript object>"
            ],
            "application/javascript": [
              "download(\"download_5a31d324-0c68-4a0d-a323-e3ae2d4be1a1\", \"test_imgs.npy\", 74250128)"
            ]
          },
          "metadata": {}
        },
        {
          "output_type": "display_data",
          "data": {
            "text/plain": [
              "<IPython.core.display.Javascript object>"
            ],
            "application/javascript": [
              "\n",
              "    async function download(id, filename, size) {\n",
              "      if (!google.colab.kernel.accessAllowed) {\n",
              "        return;\n",
              "      }\n",
              "      const div = document.createElement('div');\n",
              "      const label = document.createElement('label');\n",
              "      label.textContent = `Downloading \"${filename}\": `;\n",
              "      div.appendChild(label);\n",
              "      const progress = document.createElement('progress');\n",
              "      progress.max = size;\n",
              "      div.appendChild(progress);\n",
              "      document.body.appendChild(div);\n",
              "\n",
              "      const buffers = [];\n",
              "      let downloaded = 0;\n",
              "\n",
              "      const channel = await google.colab.kernel.comms.open(id);\n",
              "      // Send a message to notify the kernel that we're ready.\n",
              "      channel.send({})\n",
              "\n",
              "      for await (const message of channel.messages) {\n",
              "        // Send a message to notify the kernel that we're ready.\n",
              "        channel.send({})\n",
              "        if (message.buffers) {\n",
              "          for (const buffer of message.buffers) {\n",
              "            buffers.push(buffer);\n",
              "            downloaded += buffer.byteLength;\n",
              "            progress.value = downloaded;\n",
              "          }\n",
              "        }\n",
              "      }\n",
              "      const blob = new Blob(buffers, {type: 'application/binary'});\n",
              "      const a = document.createElement('a');\n",
              "      a.href = window.URL.createObjectURL(blob);\n",
              "      a.download = filename;\n",
              "      div.appendChild(a);\n",
              "      a.click();\n",
              "      div.remove();\n",
              "    }\n",
              "  "
            ]
          },
          "metadata": {}
        },
        {
          "output_type": "display_data",
          "data": {
            "text/plain": [
              "<IPython.core.display.Javascript object>"
            ],
            "application/javascript": [
              "download(\"download_72b3628d-6e72-4506-84fb-e8ddc83062c8\", \"train_imgs.npy\", 1380750128)"
            ]
          },
          "metadata": {}
        },
        {
          "output_type": "display_data",
          "data": {
            "text/plain": [
              "<IPython.core.display.Javascript object>"
            ],
            "application/javascript": [
              "\n",
              "    async function download(id, filename, size) {\n",
              "      if (!google.colab.kernel.accessAllowed) {\n",
              "        return;\n",
              "      }\n",
              "      const div = document.createElement('div');\n",
              "      const label = document.createElement('label');\n",
              "      label.textContent = `Downloading \"${filename}\": `;\n",
              "      div.appendChild(label);\n",
              "      const progress = document.createElement('progress');\n",
              "      progress.max = size;\n",
              "      div.appendChild(progress);\n",
              "      document.body.appendChild(div);\n",
              "\n",
              "      const buffers = [];\n",
              "      let downloaded = 0;\n",
              "\n",
              "      const channel = await google.colab.kernel.comms.open(id);\n",
              "      // Send a message to notify the kernel that we're ready.\n",
              "      channel.send({})\n",
              "\n",
              "      for await (const message of channel.messages) {\n",
              "        // Send a message to notify the kernel that we're ready.\n",
              "        channel.send({})\n",
              "        if (message.buffers) {\n",
              "          for (const buffer of message.buffers) {\n",
              "            buffers.push(buffer);\n",
              "            downloaded += buffer.byteLength;\n",
              "            progress.value = downloaded;\n",
              "          }\n",
              "        }\n",
              "      }\n",
              "      const blob = new Blob(buffers, {type: 'application/binary'});\n",
              "      const a = document.createElement('a');\n",
              "      a.href = window.URL.createObjectURL(blob);\n",
              "      a.download = filename;\n",
              "      div.appendChild(a);\n",
              "      a.click();\n",
              "      div.remove();\n",
              "    }\n",
              "  "
            ]
          },
          "metadata": {}
        },
        {
          "output_type": "display_data",
          "data": {
            "text/plain": [
              "<IPython.core.display.Javascript object>"
            ],
            "application/javascript": [
              "download(\"download_939d3e42-1ead-4658-b026-aeedee810ffb\", \"val_imgs.npy\", 302250128)"
            ]
          },
          "metadata": {}
        }
      ]
    }
  ]
}